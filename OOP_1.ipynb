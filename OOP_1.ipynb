{
 "cells": [
  {
   "cell_type": "code",
   "execution_count": 1,
   "metadata": {
    "collapsed": true
   },
   "outputs": [],
   "source": [
    "#Tworzenie klasy\n",
    "#pass nam mówi, że omijamy definicję i podamy ją gdzieś później\n",
    "class Human:\n",
    "    pass"
   ]
  },
  {
   "cell_type": "markdown",
   "metadata": {},
   "source": [
    "# Tworzenie klasy "
   ]
  },
  {
   "cell_type": "code",
   "execution_count": 10,
   "metadata": {
    "collapsed": true
   },
   "outputs": [],
   "source": [
    "class Human:\n",
    "    # konstruktor - instrukcja, która mówi, że jeśli tworzymy konkretny samochód, to przypisujemy konkretne cechy\n",
    "    #self wskazuje na obiekt w pamięci pod spodem\n",
    "    #metoda to funkcja w klasie\n",
    "    \n",
    "    def __init__(self, name, surname, weight):\n",
    "        #tutaj mówimy o konkretnym obiekcie używając self\n",
    "        self.name = name\n",
    "        self.surname = surname\n",
    "        self.weight = weight\n",
    "        self.sex = 'female'\n",
    "        self.marital_status = 'single'"
   ]
  },
  {
   "cell_type": "code",
   "execution_count": 11,
   "metadata": {
    "collapsed": true
   },
   "outputs": [],
   "source": [
    "ania = Human('Ania','Nowak',55)"
   ]
  },
  {
   "cell_type": "code",
   "execution_count": 4,
   "metadata": {
    "collapsed": false
   },
   "outputs": [
    {
     "data": {
      "text/plain": [
       "<__main__.Human at 0x7f9260efb5f8>"
      ]
     },
     "execution_count": 4,
     "metadata": {},
     "output_type": "execute_result"
    }
   ],
   "source": [
    "ania\n",
    "#mamy tylko opis, że to jest główmy plik __mail__ i klasę Human - techniczne"
   ]
  },
  {
   "cell_type": "code",
   "execution_count": 5,
   "metadata": {
    "collapsed": false
   },
   "outputs": [
    {
     "data": {
      "text/plain": [
       "'Ania'"
      ]
     },
     "execution_count": 5,
     "metadata": {},
     "output_type": "execute_result"
    }
   ],
   "source": [
    "ania.name"
   ]
  },
  {
   "cell_type": "code",
   "execution_count": 6,
   "metadata": {
    "collapsed": false
   },
   "outputs": [
    {
     "data": {
      "text/plain": [
       "'Nowak'"
      ]
     },
     "execution_count": 6,
     "metadata": {},
     "output_type": "execute_result"
    }
   ],
   "source": [
    "ania.surname"
   ]
  },
  {
   "cell_type": "code",
   "execution_count": 7,
   "metadata": {
    "collapsed": false
   },
   "outputs": [
    {
     "data": {
      "text/plain": [
       "55"
      ]
     },
     "execution_count": 7,
     "metadata": {},
     "output_type": "execute_result"
    }
   ],
   "source": [
    "ania.weight"
   ]
  },
  {
   "cell_type": "code",
   "execution_count": 8,
   "metadata": {
    "collapsed": false
   },
   "outputs": [
    {
     "data": {
      "text/plain": [
       "'<__main__.Human object at 0x7f9260efb5f8>'"
      ]
     },
     "execution_count": 8,
     "metadata": {},
     "output_type": "execute_result"
    }
   ],
   "source": [
    "str(ania)"
   ]
  },
  {
   "cell_type": "code",
   "execution_count": 9,
   "metadata": {
    "collapsed": false
   },
   "outputs": [
    {
     "data": {
      "text/plain": [
       "'Ania'"
      ]
     },
     "execution_count": 9,
     "metadata": {},
     "output_type": "execute_result"
    }
   ],
   "source": [
    "str(ania.name)"
   ]
  },
  {
   "cell_type": "code",
   "execution_count": 12,
   "metadata": {
    "collapsed": true
   },
   "outputs": [],
   "source": [
    "ania.weight -= 5"
   ]
  },
  {
   "cell_type": "code",
   "execution_count": 13,
   "metadata": {
    "collapsed": false
   },
   "outputs": [
    {
     "data": {
      "text/plain": [
       "50"
      ]
     },
     "execution_count": 13,
     "metadata": {},
     "output_type": "execute_result"
    }
   ],
   "source": [
    "ania.weight"
   ]
  },
  {
   "cell_type": "markdown",
   "metadata": {},
   "source": [
    "#### Dodajemy wzrost dla Ani - dodatkową cechę której nie ma w klasie - ma go tylko tylko ten jeden obiekt"
   ]
  },
  {
   "cell_type": "code",
   "execution_count": 14,
   "metadata": {
    "collapsed": true
   },
   "outputs": [],
   "source": [
    "ania.height = 160"
   ]
  },
  {
   "cell_type": "code",
   "execution_count": 15,
   "metadata": {
    "collapsed": false
   },
   "outputs": [
    {
     "data": {
      "text/plain": [
       "160"
      ]
     },
     "execution_count": 15,
     "metadata": {},
     "output_type": "execute_result"
    }
   ],
   "source": [
    "ania.height"
   ]
  },
  {
   "cell_type": "code",
   "execution_count": 17,
   "metadata": {
    "collapsed": false
   },
   "outputs": [
    {
     "data": {
      "text/plain": [
       "{'height': 160,\n",
       " 'marital_status': 'single',\n",
       " 'name': 'Ania',\n",
       " 'sex': 'female',\n",
       " 'surname': 'Nowak',\n",
       " 'weight': 50}"
      ]
     },
     "execution_count": 17,
     "metadata": {},
     "output_type": "execute_result"
    }
   ],
   "source": [
    "#__ - podwójne podkreślenie to jakieś funkcje najczęście wbudowane, dict nam daje info o klasie\n",
    "ania.__dict__"
   ]
  },
  {
   "cell_type": "code",
   "execution_count": 18,
   "metadata": {
    "collapsed": false
   },
   "outputs": [
    {
     "data": {
      "text/plain": [
       "dict"
      ]
     },
     "execution_count": 18,
     "metadata": {},
     "output_type": "execute_result"
    }
   ],
   "source": [
    "type(ania.__dict__)"
   ]
  },
  {
   "cell_type": "code",
   "execution_count": 20,
   "metadata": {
    "collapsed": false
   },
   "outputs": [
    {
     "data": {
      "text/plain": [
       "['__class__',\n",
       " '__delattr__',\n",
       " '__dict__',\n",
       " '__dir__',\n",
       " '__doc__',\n",
       " '__eq__',\n",
       " '__format__',\n",
       " '__ge__',\n",
       " '__getattribute__',\n",
       " '__gt__',\n",
       " '__hash__',\n",
       " '__init__',\n",
       " '__init_subclass__',\n",
       " '__le__',\n",
       " '__lt__',\n",
       " '__module__',\n",
       " '__ne__',\n",
       " '__new__',\n",
       " '__reduce__',\n",
       " '__reduce_ex__',\n",
       " '__repr__',\n",
       " '__setattr__',\n",
       " '__sizeof__',\n",
       " '__str__',\n",
       " '__subclasshook__',\n",
       " '__weakref__',\n",
       " 'height',\n",
       " 'marital_status',\n",
       " 'name',\n",
       " 'sex',\n",
       " 'surname',\n",
       " 'weight']"
      ]
     },
     "execution_count": 20,
     "metadata": {},
     "output_type": "execute_result"
    }
   ],
   "source": [
    "#wypisujemy wszystkie metody i parametry dotyczące obiektu ania\n",
    "dir(ania)"
   ]
  },
  {
   "cell_type": "code",
   "execution_count": 22,
   "metadata": {
    "collapsed": false
   },
   "outputs": [
    {
     "data": {
      "text/plain": [
       "<function Human.__sizeof__>"
      ]
     },
     "execution_count": 22,
     "metadata": {},
     "output_type": "execute_result"
    }
   ],
   "source": [
    "ania.__sizeof__"
   ]
  },
  {
   "cell_type": "code",
   "execution_count": 23,
   "metadata": {
    "collapsed": false
   },
   "outputs": [
    {
     "data": {
      "text/plain": [
       "{'height': 160,\n",
       " 'marital_status': 'single',\n",
       " 'name': 'Ania',\n",
       " 'sex': 'female',\n",
       " 'surname': 'Nowak',\n",
       " 'weight': 50}"
      ]
     },
     "execution_count": 23,
     "metadata": {},
     "output_type": "execute_result"
    }
   ],
   "source": [
    "ania.__dict__"
   ]
  },
  {
   "cell_type": "code",
   "execution_count": 26,
   "metadata": {
    "collapsed": false
   },
   "outputs": [
    {
     "ename": "AttributeError",
     "evalue": "marital_status",
     "output_type": "error",
     "traceback": [
      "\u001b[0;31m---------------------------------------------------------------------------\u001b[0m",
      "\u001b[0;31mAttributeError\u001b[0m                            Traceback (most recent call last)",
      "\u001b[0;32m<ipython-input-26-bf636cae9429>\u001b[0m in \u001b[0;36m<module>\u001b[0;34m()\u001b[0m\n\u001b[1;32m      1\u001b[0m \u001b[0;31m#można wywalić parametr z klasy\u001b[0m\u001b[0;34m\u001b[0m\u001b[0;34m\u001b[0m\u001b[0m\n\u001b[0;32m----> 2\u001b[0;31m \u001b[0;32mdel\u001b[0m \u001b[0mania\u001b[0m\u001b[0;34m.\u001b[0m\u001b[0mmarital_status\u001b[0m\u001b[0;34m\u001b[0m\u001b[0m\n\u001b[0m",
      "\u001b[0;31mAttributeError\u001b[0m: marital_status"
     ]
    }
   ],
   "source": [
    "#można wywalić parametr z klasy - uruchomiłem 2 razy stąd error\n",
    "del ania.marital_status"
   ]
  },
  {
   "cell_type": "code",
   "execution_count": 25,
   "metadata": {
    "collapsed": false
   },
   "outputs": [
    {
     "data": {
      "text/plain": [
       "{'height': 160,\n",
       " 'name': 'Ania',\n",
       " 'sex': 'female',\n",
       " 'surname': 'Nowak',\n",
       " 'weight': 50}"
      ]
     },
     "execution_count": 25,
     "metadata": {},
     "output_type": "execute_result"
    }
   ],
   "source": [
    "ania.__dict__"
   ]
  },
  {
   "cell_type": "code",
   "execution_count": 27,
   "metadata": {
    "collapsed": true
   },
   "outputs": [],
   "source": [
    "ania.weight -=5"
   ]
  },
  {
   "cell_type": "code",
   "execution_count": 28,
   "metadata": {
    "collapsed": false
   },
   "outputs": [
    {
     "data": {
      "text/plain": [
       "{'height': 160,\n",
       " 'name': 'Ania',\n",
       " 'sex': 'female',\n",
       " 'surname': 'Nowak',\n",
       " 'weight': 45}"
      ]
     },
     "execution_count": 28,
     "metadata": {},
     "output_type": "execute_result"
    }
   ],
   "source": [
    "ania.__dict__"
   ]
  },
  {
   "cell_type": "code",
   "execution_count": 35,
   "metadata": {
    "collapsed": true
   },
   "outputs": [],
   "source": [
    "class Human:\n",
    "    #atrybuty klasowe - które są współdzielone na klasie, człowie ma jakiś gatunek, samochód ma ileś kół\n",
    "    species = 'homo-sapiens'\n",
    "    \n",
    "    def __init__(self, name, surname, weight):\n",
    "        #tutaj mówimy o konkretnym obiekcie używając self\n",
    "        self.name = name\n",
    "        self.surname = surname\n",
    "        self.weight = weight\n",
    "        self.sex = 'female' #stałę powinny być jako atrybut\n",
    "        self.marital_status = 'single' #więc ta linikja i powyższa powinny być jako atrybuty jak species"
   ]
  },
  {
   "cell_type": "code",
   "execution_count": 30,
   "metadata": {
    "collapsed": true
   },
   "outputs": [],
   "source": [
    "eva = Human('Eva','Nowak',54)"
   ]
  },
  {
   "cell_type": "code",
   "execution_count": 31,
   "metadata": {
    "collapsed": false
   },
   "outputs": [
    {
     "data": {
      "text/plain": [
       "'homo-sapiens'"
      ]
     },
     "execution_count": 31,
     "metadata": {},
     "output_type": "execute_result"
    }
   ],
   "source": [
    "eva.species"
   ]
  },
  {
   "cell_type": "code",
   "execution_count": 34,
   "metadata": {
    "collapsed": false
   },
   "outputs": [
    {
     "data": {
      "text/plain": [
       "{'marital_status': 'single',\n",
       " 'name': 'Eva',\n",
       " 'sex': 'female',\n",
       " 'surname': 'Nowak',\n",
       " 'weight': 54}"
      ]
     },
     "execution_count": 34,
     "metadata": {},
     "output_type": "execute_result"
    }
   ],
   "source": [
    "eva.__dict__ #tutaj nie mamy atrybutu klasy, ale jest w dir"
   ]
  },
  {
   "cell_type": "code",
   "execution_count": 33,
   "metadata": {
    "collapsed": false
   },
   "outputs": [
    {
     "data": {
      "text/plain": [
       "['__class__',\n",
       " '__delattr__',\n",
       " '__dict__',\n",
       " '__dir__',\n",
       " '__doc__',\n",
       " '__eq__',\n",
       " '__format__',\n",
       " '__ge__',\n",
       " '__getattribute__',\n",
       " '__gt__',\n",
       " '__hash__',\n",
       " '__init__',\n",
       " '__init_subclass__',\n",
       " '__le__',\n",
       " '__lt__',\n",
       " '__module__',\n",
       " '__ne__',\n",
       " '__new__',\n",
       " '__reduce__',\n",
       " '__reduce_ex__',\n",
       " '__repr__',\n",
       " '__setattr__',\n",
       " '__sizeof__',\n",
       " '__str__',\n",
       " '__subclasshook__',\n",
       " '__weakref__',\n",
       " 'marital_status',\n",
       " 'name',\n",
       " 'sex',\n",
       " 'species',\n",
       " 'surname',\n",
       " 'weight']"
      ]
     },
     "execution_count": 33,
     "metadata": {},
     "output_type": "execute_result"
    }
   ],
   "source": [
    "dir(eva)"
   ]
  },
  {
   "cell_type": "code",
   "execution_count": 36,
   "metadata": {
    "collapsed": true
   },
   "outputs": [],
   "source": [
    "adam = Human('Adam','Nowak',81)"
   ]
  },
  {
   "cell_type": "code",
   "execution_count": 37,
   "metadata": {
    "collapsed": false
   },
   "outputs": [
    {
     "data": {
      "text/plain": [
       "'homo-sapiens'"
      ]
     },
     "execution_count": 37,
     "metadata": {},
     "output_type": "execute_result"
    }
   ],
   "source": [
    "adam.species"
   ]
  },
  {
   "cell_type": "code",
   "execution_count": 38,
   "metadata": {
    "collapsed": true
   },
   "outputs": [],
   "source": [
    "Human.species = 'homo-erectus'"
   ]
  },
  {
   "cell_type": "code",
   "execution_count": 39,
   "metadata": {
    "collapsed": false
   },
   "outputs": [
    {
     "data": {
      "text/plain": [
       "'homo-erectus'"
      ]
     },
     "execution_count": 39,
     "metadata": {},
     "output_type": "execute_result"
    }
   ],
   "source": [
    "adam.species"
   ]
  },
  {
   "cell_type": "code",
   "execution_count": 44,
   "metadata": {
    "collapsed": true
   },
   "outputs": [],
   "source": [
    "class Human:\n",
    "    #atrybuty klasowe - które są współdzielone na klasie, człowie ma jakiś gatunek, samochód ma ileś kół\n",
    "    species = 'homo-sapiens'\n",
    "    \n",
    "    def __init__(self, name, surname, weight):\n",
    "        #tutaj mówimy o konkretnym obiekcie używając self\n",
    "        self.name = name\n",
    "        self.surname = surname\n",
    "        self.weight = weight\n",
    "    \n",
    "    def say_hello(self):\n",
    "        print(\"Hello I'm {} {} and my weight is: {}\".format(self.name, self.surname, self.weight))"
   ]
  },
  {
   "cell_type": "code",
   "execution_count": 48,
   "metadata": {
    "collapsed": true
   },
   "outputs": [],
   "source": [
    "class Human:\n",
    "    #atrybuty klasowe - które są współdzielone na klasie, człowie ma jakiś gatunek, samochód ma ileś kół\n",
    "    species = 'homo-sapiens'\n",
    "    \n",
    "    def __init__(self, name, surname, weight):\n",
    "        #tutaj mówimy o konkretnym obiekcie używając self\n",
    "        self.name = name\n",
    "        self.surname = surname\n",
    "        self.weight = weight\n",
    "    \n",
    "    def say_hello(self):\n",
    "        print(\"Hello I'm {name} {sur} and my weight is: {wei}\".format(name=self.name, sur=self.surname, wei=self.weight))"
   ]
  },
  {
   "cell_type": "code",
   "execution_count": 49,
   "metadata": {
    "collapsed": true
   },
   "outputs": [],
   "source": [
    "adam = Human('Adam','Nowak',81)"
   ]
  },
  {
   "cell_type": "code",
   "execution_count": 50,
   "metadata": {
    "collapsed": false
   },
   "outputs": [
    {
     "data": {
      "text/plain": [
       "<bound method Human.say_hello of <__main__.Human object at 0x7f9260e97898>>"
      ]
     },
     "execution_count": 50,
     "metadata": {},
     "output_type": "execute_result"
    }
   ],
   "source": [
    "adam.say_hello"
   ]
  },
  {
   "cell_type": "code",
   "execution_count": 51,
   "metadata": {
    "collapsed": false
   },
   "outputs": [
    {
     "name": "stdout",
     "output_type": "stream",
     "text": [
      "Hello I'm Adam Nowak and my weight is: 81\n"
     ]
    }
   ],
   "source": [
    "adam.say_hello()"
   ]
  },
  {
   "cell_type": "markdown",
   "metadata": {},
   "source": [
    "### metody - to co może robić / atrybuty - jego cechy\n",
    "properties to coś między metodą a atrybutem\n",
    "np. BMI, które chcemy, żeby się wyliczało w późniejszym okresie"
   ]
  },
  {
   "cell_type": "code",
   "execution_count": 55,
   "metadata": {
    "collapsed": true
   },
   "outputs": [],
   "source": [
    "class Human:\n",
    "    #atrybuty klasowe - które są współdzielone na klasie, człowie ma jakiś gatunek, samochód ma ileś kół\n",
    "    species = 'homo-sapiens'\n",
    "    \n",
    "    def __init__(self, name, surname, weight):\n",
    "        #tutaj mówimy o konkretnym obiekcie używając self\n",
    "        self.name = name\n",
    "        self.surname = surname\n",
    "        self.weight = weight\n",
    "    \n",
    "    def say_hello(self):\n",
    "        print(\"Hello I'm {name} {sur} and my weight is: {wei}\".format(\n",
    "            name=self.name, \n",
    "            sur=self.surname, \n",
    "            wei=self.weight))\n",
    "        \n",
    "    @property\n",
    "    def like_bond_name(self):\n",
    "        return \"{surname},{name} {surname}\".format(surname=self.surname,name=self.name)"
   ]
  },
  {
   "cell_type": "code",
   "execution_count": 56,
   "metadata": {
    "collapsed": true
   },
   "outputs": [],
   "source": [
    "adam = Human('Adam','Nowak',81)"
   ]
  },
  {
   "cell_type": "code",
   "execution_count": 57,
   "metadata": {
    "collapsed": false
   },
   "outputs": [
    {
     "ename": "TypeError",
     "evalue": "'str' object is not callable",
     "output_type": "error",
     "traceback": [
      "\u001b[0;31m---------------------------------------------------------------------------\u001b[0m",
      "\u001b[0;31mTypeError\u001b[0m                                 Traceback (most recent call last)",
      "\u001b[0;32m<ipython-input-57-57b9bc84a5fa>\u001b[0m in \u001b[0;36m<module>\u001b[0;34m()\u001b[0m\n\u001b[0;32m----> 1\u001b[0;31m \u001b[0madam\u001b[0m\u001b[0;34m.\u001b[0m\u001b[0mlike_bond_name\u001b[0m\u001b[0;34m(\u001b[0m\u001b[0;34m)\u001b[0m\u001b[0;34m\u001b[0m\u001b[0m\n\u001b[0m",
      "\u001b[0;31mTypeError\u001b[0m: 'str' object is not callable"
     ]
    }
   ],
   "source": [
    "adam.like_bond_name()"
   ]
  },
  {
   "cell_type": "code",
   "execution_count": 58,
   "metadata": {
    "collapsed": false
   },
   "outputs": [
    {
     "data": {
      "text/plain": [
       "'Nowak,Adam Nowak'"
      ]
     },
     "execution_count": 58,
     "metadata": {},
     "output_type": "execute_result"
    }
   ],
   "source": [
    "#dekorator - traktuj jako atrybut a nie metodę\n",
    "adam.like_bond_name"
   ]
  },
  {
   "cell_type": "markdown",
   "metadata": {},
   "source": [
    "# rubber duck debugging"
   ]
  },
  {
   "cell_type": "markdown",
   "metadata": {},
   "source": [
    "# Metody specjalne"
   ]
  },
  {
   "cell_type": "code",
   "execution_count": 59,
   "metadata": {
    "collapsed": false
   },
   "outputs": [
    {
     "data": {
      "text/plain": [
       "<__main__.Human at 0x7f9260e97668>"
      ]
     },
     "execution_count": 59,
     "metadata": {},
     "output_type": "execute_result"
    }
   ],
   "source": [
    "adam"
   ]
  },
  {
   "cell_type": "code",
   "execution_count": 60,
   "metadata": {
    "collapsed": false
   },
   "outputs": [
    {
     "data": {
      "text/plain": [
       "'<__main__.Human object at 0x7f9260e97668>'"
      ]
     },
     "execution_count": 60,
     "metadata": {},
     "output_type": "execute_result"
    }
   ],
   "source": [
    "str(adam)"
   ]
  },
  {
   "cell_type": "code",
   "execution_count": 61,
   "metadata": {
    "collapsed": false
   },
   "outputs": [
    {
     "data": {
      "text/plain": [
       "'<__main__.Human object at 0x7f9260e97668>'"
      ]
     },
     "execution_count": 61,
     "metadata": {},
     "output_type": "execute_result"
    }
   ],
   "source": [
    "repr(adam)"
   ]
  },
  {
   "cell_type": "code",
   "execution_count": 85,
   "metadata": {
    "collapsed": false
   },
   "outputs": [],
   "source": [
    "class Human:\n",
    "    #atrybuty klasowe - które są współdzielone na klasie, człowie ma jakiś gatunek, samochód ma ileś kół\n",
    "    species = 'homo-sapiens'\n",
    "    \n",
    "    def __init__(self, name, surname, weight, height):\n",
    "        #tutaj mówimy o konkretnym obiekcie używając self\n",
    "        self.name = name\n",
    "        self.surname = surname\n",
    "        self.weight = weight\n",
    "        self.height = height\n",
    "    \n",
    "    def say_hello(self):\n",
    "        print(\"Hello I'm {name} {sur} and my weight is: {wei}\".format(\n",
    "            name=self.name, \n",
    "            sur=self.surname, \n",
    "            wei=self.weight))\n",
    "        \n",
    "    @property\n",
    "    def like_bond_name(self):\n",
    "        return \"{surname},{name} {surname}\".format(surname=self.surname,name=self.name)\n",
    "    \n",
    "    #tutaj przypisujemy do standardowej funkcji python'owej co ma zwracać, jak napiszemy str(...) to dostaniemy wynik\n",
    "    def __str__(self):\n",
    "        return self.like_bond_name\n",
    "    \n",
    " \n",
    "    \n",
    "    \n",
    "    def __len__(self):\n",
    "        return self.height"
   ]
  },
  {
   "cell_type": "code",
   "execution_count": 76,
   "metadata": {
    "collapsed": false
   },
   "outputs": [],
   "source": [
    "adam = Human('Adam','Nowak',81,180)"
   ]
  },
  {
   "cell_type": "code",
   "execution_count": 77,
   "metadata": {
    "collapsed": false
   },
   "outputs": [
    {
     "data": {
      "text/plain": [
       "<__main__.Human at 0x7f9260e24fd0>"
      ]
     },
     "execution_count": 77,
     "metadata": {},
     "output_type": "execute_result"
    }
   ],
   "source": [
    "adam"
   ]
  },
  {
   "cell_type": "code",
   "execution_count": 78,
   "metadata": {
    "collapsed": false
   },
   "outputs": [
    {
     "data": {
      "text/plain": [
       "'Nowak,Adam Nowak'"
      ]
     },
     "execution_count": 78,
     "metadata": {},
     "output_type": "execute_result"
    }
   ],
   "source": [
    "str(adam)"
   ]
  },
  {
   "cell_type": "code",
   "execution_count": 79,
   "metadata": {
    "collapsed": false
   },
   "outputs": [
    {
     "data": {
      "text/plain": [
       "180"
      ]
     },
     "execution_count": 79,
     "metadata": {},
     "output_type": "execute_result"
    }
   ],
   "source": [
    "len(adam)"
   ]
  },
  {
   "cell_type": "code",
   "execution_count": 80,
   "metadata": {
    "collapsed": false
   },
   "outputs": [
    {
     "data": {
      "text/plain": [
       "<__main__.Human at 0x7f9260e24fd0>"
      ]
     },
     "execution_count": 80,
     "metadata": {},
     "output_type": "execute_result"
    }
   ],
   "source": [
    "adam"
   ]
  },
  {
   "cell_type": "code",
   "execution_count": 82,
   "metadata": {
    "collapsed": false
   },
   "outputs": [
    {
     "name": "stdout",
     "output_type": "stream",
     "text": [
      "Nowak,Adam Nowak\n"
     ]
    }
   ],
   "source": [
    "print(adam)\n",
    "#od razu wywołuje mu str'a"
   ]
  },
  {
   "cell_type": "markdown",
   "metadata": {},
   "source": [
    "# Zadania"
   ]
  },
  {
   "cell_type": "markdown",
   "metadata": {},
   "source": [
    "\n",
    "Classes exercises\n",
    "\n",
    "    Create class Car (not specific but needs to have: name, brand, engine volume, consumption, milage, color)\n",
    "    Create list of 3 cars (random names, engine volume etc. - you decide)\n",
    "    Check types in your list\n",
    "    Create nice repr and str functions\n",
    "    Your Car class has go function\n",
    "    If you not specify color then color is picked by random from 'pink', 'red', 'blue'\n"
   ]
  },
  {
   "cell_type": "code",
   "execution_count": 89,
   "metadata": {
    "collapsed": true
   },
   "outputs": [],
   "source": [
    "class Car:\n",
    "    def __init__(self, name, brand, engine_vol, consumption, milage, color):\n",
    "        self.name = name\n",
    "        self.brand = brand\n",
    "        self.engine_vol = engine_vol\n",
    "        self.consumption = consumption\n",
    "        self.milage = milage\n",
    "        self.color = color"
   ]
  },
  {
   "cell_type": "code",
   "execution_count": 90,
   "metadata": {
    "collapsed": false
   },
   "outputs": [],
   "source": [
    "AUTO_1 = Car('Mondeo','Ford',2.0,9,100,'red')"
   ]
  },
  {
   "cell_type": "code",
   "execution_count": 92,
   "metadata": {
    "collapsed": true
   },
   "outputs": [],
   "source": [
    "AUTO_2 = Car('X5','BMW',5.0,13,200,'blue')"
   ]
  },
  {
   "cell_type": "code",
   "execution_count": 93,
   "metadata": {
    "collapsed": true
   },
   "outputs": [],
   "source": [
    "AUTO_3 = Car('Galaxy','Ford',3.0,10,300,'green')"
   ]
  },
  {
   "cell_type": "code",
   "execution_count": 94,
   "metadata": {
    "collapsed": true
   },
   "outputs": [],
   "source": [
    "LISTA_AUT = [AUTO_1,AUTO_2,AUTO_2]"
   ]
  },
  {
   "cell_type": "code",
   "execution_count": 95,
   "metadata": {
    "collapsed": false
   },
   "outputs": [
    {
     "data": {
      "text/plain": [
       "__main__.Car"
      ]
     },
     "execution_count": 95,
     "metadata": {},
     "output_type": "execute_result"
    }
   ],
   "source": [
    "type(AUTO_1)"
   ]
  },
  {
   "cell_type": "code",
   "execution_count": 96,
   "metadata": {
    "collapsed": false
   },
   "outputs": [
    {
     "data": {
      "text/plain": [
       "list"
      ]
     },
     "execution_count": 96,
     "metadata": {},
     "output_type": "execute_result"
    }
   ],
   "source": [
    "type(LISTA_AUT)"
   ]
  },
  {
   "cell_type": "code",
   "execution_count": 129,
   "metadata": {
    "collapsed": true
   },
   "outputs": [],
   "source": [
    "import random\n",
    "\n",
    "class Car:\n",
    "    \n",
    "    \n",
    "    def __init__(self, name, brand, engine_vol, consumption, milage, color=random.choice(['pink','red','blue'])):\n",
    "        self.name = name\n",
    "        self.brand = brand\n",
    "        self.engine_vol = engine_vol\n",
    "        self.consumption = consumption\n",
    "        self.milage = milage\n",
    "        self.color = color\n",
    "    \n",
    "    def __str__(self):\n",
    "        return \"Marka: {}, Model: {}, Silnik: {}\".format(self.brand,self.name, self.engine_vol)\n",
    "    \n",
    "    def __repr__(self):\n",
    "        return \"Marka: {}, Model: {}, Silnik: {}\".format(self.brand,self.name, self.engine_vol)\n",
    "    \n",
    "    def go(self):\n",
    "        return self.brand"
   ]
  },
  {
   "cell_type": "code",
   "execution_count": 134,
   "metadata": {
    "collapsed": false
   },
   "outputs": [],
   "source": [
    "AUTO_1 = Car('Mondeo','Ford',2.0,9,100)"
   ]
  },
  {
   "cell_type": "code",
   "execution_count": 135,
   "metadata": {
    "collapsed": false
   },
   "outputs": [
    {
     "data": {
      "text/plain": [
       "'blue'"
      ]
     },
     "execution_count": 135,
     "metadata": {},
     "output_type": "execute_result"
    }
   ],
   "source": [
    "AUTO_1.color"
   ]
  },
  {
   "cell_type": "code",
   "execution_count": 123,
   "metadata": {
    "collapsed": false
   },
   "outputs": [
    {
     "data": {
      "text/plain": [
       "Marka: Ford, Model: Mondeo, Silnik: 2.0"
      ]
     },
     "execution_count": 123,
     "metadata": {},
     "output_type": "execute_result"
    }
   ],
   "source": [
    "AUTO_1"
   ]
  },
  {
   "cell_type": "code",
   "execution_count": 124,
   "metadata": {
    "collapsed": false
   },
   "outputs": [
    {
     "data": {
      "text/plain": [
       "'Marka: Ford, Model: Mondeo, Silnik: 2.0'"
      ]
     },
     "execution_count": 124,
     "metadata": {},
     "output_type": "execute_result"
    }
   ],
   "source": [
    "str(AUTO_1)"
   ]
  },
  {
   "cell_type": "code",
   "execution_count": 125,
   "metadata": {
    "collapsed": false
   },
   "outputs": [
    {
     "data": {
      "text/plain": [
       "'red'"
      ]
     },
     "execution_count": 125,
     "metadata": {},
     "output_type": "execute_result"
    }
   ],
   "source": [
    "#importujemy sobie bibliotekę random\n",
    "import random\n",
    "random.choice(['pink','red','blue'])"
   ]
  },
  {
   "cell_type": "code",
   "execution_count": 136,
   "metadata": {
    "collapsed": false,
    "scrolled": true
   },
   "outputs": [
    {
     "data": {
      "text/plain": [
       "'Ford'"
      ]
     },
     "execution_count": 136,
     "metadata": {},
     "output_type": "execute_result"
    }
   ],
   "source": [
    "AUTO_1.go()"
   ]
  },
  {
   "cell_type": "markdown",
   "metadata": {},
   "source": [
    "Extra:\n",
    "\n",
    "    Create class Human,\n",
    "    Human has specific unique id (autoincremented), weight, height and bmi,\n",
    "    Human can eat,\n",
    "    Human can exercise,\n",
    "    Create list of 1000 humans using random names,\n",
    "    Calculate average BMI of population,\n"
   ]
  },
  {
   "cell_type": "code",
   "execution_count": 166,
   "metadata": {
    "collapsed": false
   },
   "outputs": [],
   "source": [
    "class Human:\n",
    "    counter = 1\n",
    "    \n",
    "    def __init__(self, weight, height):\n",
    "       \n",
    "        self.weight = weight\n",
    "        self.height = height\n",
    "        self.id = Human.counter\n",
    "        Human.counter+=+1\n",
    "        \n",
    "    def eat(self):\n",
    "        print(\"I am eating\")\n",
    "        \n",
    "    def exercise(self):\n",
    "        print(\"I can exercise\")\n",
    "        \n",
    "    @property\n",
    "    def bmi(self):\n",
    "        return self.weight/self.height"
   ]
  },
  {
   "cell_type": "code",
   "execution_count": 160,
   "metadata": {
    "collapsed": false
   },
   "outputs": [],
   "source": [
    "a = Human(1,2)"
   ]
  },
  {
   "cell_type": "code",
   "execution_count": 161,
   "metadata": {
    "collapsed": false
   },
   "outputs": [
    {
     "data": {
      "text/plain": [
       "1"
      ]
     },
     "execution_count": 161,
     "metadata": {},
     "output_type": "execute_result"
    }
   ],
   "source": [
    "a.id"
   ]
  },
  {
   "cell_type": "code",
   "execution_count": 162,
   "metadata": {
    "collapsed": true
   },
   "outputs": [],
   "source": [
    "b=Human(2,3)"
   ]
  },
  {
   "cell_type": "code",
   "execution_count": 163,
   "metadata": {
    "collapsed": false
   },
   "outputs": [
    {
     "data": {
      "text/plain": [
       "2"
      ]
     },
     "execution_count": 163,
     "metadata": {},
     "output_type": "execute_result"
    }
   ],
   "source": [
    "b.id"
   ]
  },
  {
   "cell_type": "code",
   "execution_count": 164,
   "metadata": {
    "collapsed": false
   },
   "outputs": [
    {
     "data": {
      "text/plain": [
       "0.5"
      ]
     },
     "execution_count": 164,
     "metadata": {},
     "output_type": "execute_result"
    }
   ],
   "source": [
    "a.bmi"
   ]
  },
  {
   "cell_type": "code",
   "execution_count": 167,
   "metadata": {
    "collapsed": true
   },
   "outputs": [],
   "source": [
    "class Human:\n",
    "    counter = 1\n",
    "    \n",
    "    def __init__(self,name, weight, height):\n",
    "        self.name = name\n",
    "        self.weight = weight\n",
    "        self.height = height\n",
    "        self.id = Human.counter\n",
    "        Human.counter+=+1\n",
    "        \n",
    "    def eat(self):\n",
    "        print(\"I am eating\")\n",
    "        \n",
    "    def exercise(self):\n",
    "        print(\"I can exercise\")\n",
    "        \n",
    "    @property\n",
    "    def bmi(self):\n",
    "        return self.weight/self.height"
   ]
  },
  {
   "cell_type": "code",
   "execution_count": 168,
   "metadata": {
    "collapsed": false
   },
   "outputs": [
    {
     "name": "stdout",
     "output_type": "stream",
     "text": [
      "Ania\n",
      "Adam\n",
      "Jacek\n",
      "Ania\n",
      "Adam\n",
      "Ania\n",
      "Ania\n",
      "Adam\n",
      "Adam\n",
      "Jacek\n",
      "Adam\n",
      "Adam\n",
      "Jacek\n",
      "Adam\n",
      "Jacek\n",
      "Adam\n",
      "Ania\n",
      "Jacek\n",
      "Jacek\n",
      "Ania\n",
      "Adam\n",
      "Adam\n",
      "Adam\n",
      "Adam\n",
      "Ania\n",
      "Jacek\n",
      "Adam\n",
      "Ania\n",
      "Ania\n",
      "Ania\n",
      "Adam\n",
      "Ania\n",
      "Jacek\n",
      "Jacek\n",
      "Jacek\n",
      "Adam\n",
      "Ania\n",
      "Jacek\n",
      "Adam\n",
      "Jacek\n",
      "Jacek\n",
      "Adam\n",
      "Jacek\n",
      "Jacek\n",
      "Adam\n",
      "Adam\n",
      "Adam\n",
      "Jacek\n",
      "Adam\n",
      "Jacek\n",
      "Adam\n",
      "Jacek\n",
      "Ania\n",
      "Adam\n",
      "Jacek\n",
      "Jacek\n",
      "Adam\n",
      "Ania\n",
      "Ania\n",
      "Jacek\n",
      "Ania\n",
      "Adam\n",
      "Jacek\n",
      "Ania\n",
      "Jacek\n",
      "Jacek\n",
      "Ania\n",
      "Ania\n",
      "Jacek\n",
      "Jacek\n",
      "Adam\n",
      "Adam\n",
      "Jacek\n",
      "Adam\n",
      "Ania\n",
      "Adam\n",
      "Adam\n",
      "Ania\n",
      "Ania\n",
      "Adam\n",
      "Adam\n",
      "Adam\n",
      "Jacek\n",
      "Adam\n",
      "Adam\n",
      "Adam\n",
      "Adam\n",
      "Adam\n",
      "Ania\n",
      "Jacek\n",
      "Jacek\n",
      "Ania\n",
      "Ania\n",
      "Adam\n",
      "Adam\n",
      "Jacek\n",
      "Adam\n",
      "Adam\n",
      "Ania\n",
      "Jacek\n"
     ]
    }
   ],
   "source": [
    "human_list=[]\n",
    "for i in range(100):\n",
    "   human_list.append(Human(random.choice([\"Jacek\",\"Ania\",\"Adam\"]),random.randint(30,100),random.randint(120,200)))\n",
    "   print( human_list[i].name)\n",
    "    "
   ]
  },
  {
   "cell_type": "code",
   "execution_count": 170,
   "metadata": {
    "collapsed": false
   },
   "outputs": [
    {
     "data": {
      "text/plain": [
       "0.732824427480916"
      ]
     },
     "execution_count": 170,
     "metadata": {},
     "output_type": "execute_result"
    }
   ],
   "source": [
    "human_list[0].bmi"
   ]
  },
  {
   "cell_type": "code",
   "execution_count": 179,
   "metadata": {
    "collapsed": false
   },
   "outputs": [],
   "source": [
    "bmi_tot = 0\n",
    "for el in human_list:\n",
    "    bmi_tot = bmi_tot + el.bmi"
   ]
  },
  {
   "cell_type": "code",
   "execution_count": 180,
   "metadata": {
    "collapsed": false
   },
   "outputs": [
    {
     "data": {
      "text/plain": [
       "0.4106148011861229"
      ]
     },
     "execution_count": 180,
     "metadata": {},
     "output_type": "execute_result"
    }
   ],
   "source": [
    "bmi_tot/len(human_list)"
   ]
  },
  {
   "cell_type": "markdown",
   "metadata": {},
   "source": [
    "# Extra 2:\n",
    "\n",
    "    Extend Car for method where you convert any mile per galon (mpg) to liters per 100 km\n"
   ]
  },
  {
   "cell_type": "code",
   "execution_count": 181,
   "metadata": {
    "collapsed": true
   },
   "outputs": [],
   "source": [
    "import random\n",
    "\n",
    "class Car:\n",
    "    \n",
    "    \n",
    "    def __init__(self, name, brand, engine_vol, consumption, milage, color=random.choice(['pink','red','blue'])):\n",
    "        self.name = name\n",
    "        self.brand = brand\n",
    "        self.engine_vol = engine_vol\n",
    "        self.consumption = consumption\n",
    "        self.milage = milage\n",
    "        self.color = color\n",
    "    \n",
    "    def __str__(self):\n",
    "        return \"Marka: {}, Model: {}, Silnik: {}\".format(self.brand,self.name, self.engine_vol)\n",
    "    \n",
    "    def __repr__(self):\n",
    "        return \"Marka: {}, Model: {}, Silnik: {}\".format(self.brand,self.name, self.engine_vol)\n",
    "    \n",
    "    def go(self):\n",
    "        return self.brand\n",
    "    \n",
    "    def conv_per_km(self):\n",
    "        return self.consumption * 0.425"
   ]
  },
  {
   "cell_type": "code",
   "execution_count": 182,
   "metadata": {
    "collapsed": true
   },
   "outputs": [],
   "source": [
    "AUTO_1 = Car('Mondeo','Ford',2.0,9,100)"
   ]
  },
  {
   "cell_type": "code",
   "execution_count": 183,
   "metadata": {
    "collapsed": false
   },
   "outputs": [
    {
     "data": {
      "text/plain": [
       "<bound method Car.conv_per_km of Marka: Ford, Model: Mondeo, Silnik: 2.0>"
      ]
     },
     "execution_count": 183,
     "metadata": {},
     "output_type": "execute_result"
    }
   ],
   "source": [
    "AUTO_1.conv_per_km"
   ]
  },
  {
   "cell_type": "code",
   "execution_count": 184,
   "metadata": {
    "collapsed": false
   },
   "outputs": [
    {
     "data": {
      "text/plain": [
       "3.8249999999999997"
      ]
     },
     "execution_count": 184,
     "metadata": {},
     "output_type": "execute_result"
    }
   ],
   "source": [
    "AUTO_1.conv_per_km()"
   ]
  },
  {
   "cell_type": "markdown",
   "metadata": {},
   "source": [
    "# Extra 3:\n",
    "\n",
    "    Create class Population,\n",
    "    In population you can put people from calculation,\n",
    "    Calculate mean and median of bmi in systematic way\n"
   ]
  },
  {
   "cell_type": "code",
   "execution_count": 195,
   "metadata": {
    "collapsed": false
   },
   "outputs": [],
   "source": [
    "class population:\n",
    "    def __init__(self,list_human):\n",
    "        self.list_human=list_human\n",
    "        \n",
    "    def avg_BMI(self):\n",
    "        bmi_tot = 0\n",
    "        for el in self.list_human:\n",
    "            bmi_tot = bmi_tot + el.bmi\n",
    "        return bmi_tot/len(self.list_human)"
   ]
  },
  {
   "cell_type": "code",
   "execution_count": 196,
   "metadata": {
    "collapsed": true
   },
   "outputs": [],
   "source": [
    "a = population(human_list)"
   ]
  },
  {
   "cell_type": "code",
   "execution_count": 197,
   "metadata": {
    "collapsed": false
   },
   "outputs": [
    {
     "data": {
      "text/plain": [
       "<bound method population.avg_BMI of <__main__.population object at 0x7f9260df4c88>>"
      ]
     },
     "execution_count": 197,
     "metadata": {},
     "output_type": "execute_result"
    }
   ],
   "source": [
    "a.avg_BMI"
   ]
  },
  {
   "cell_type": "code",
   "execution_count": 198,
   "metadata": {
    "collapsed": false
   },
   "outputs": [
    {
     "data": {
      "text/plain": [
       "0.4106148011861229"
      ]
     },
     "execution_count": 198,
     "metadata": {},
     "output_type": "execute_result"
    }
   ],
   "source": [
    "a.avg_BMI()"
   ]
  },
  {
   "cell_type": "markdown",
   "metadata": {},
   "source": [
    "www.hackerrank.com/dashboard - strona do ćwiczeń pythona/basha itp. wraz z odpowiedziami"
   ]
  },
  {
   "cell_type": "code",
   "execution_count": 212,
   "metadata": {
    "collapsed": false
   },
   "outputs": [],
   "source": [
    "import statistics\n",
    "class population:\n",
    "    def __init__(self,list_human):\n",
    "        self.list_human=list_human\n",
    "        \n",
    "    def avg_BMI(self):\n",
    "        bmi_tot = 0\n",
    "        for el in self.list_human:\n",
    "            bmi_tot = bmi_tot + el.bmi\n",
    "        return bmi_tot/len(self.list_human)\n",
    "    \n",
    "    def median_bmi(self):        \n",
    "        ls_bmi=[]\n",
    "        for i in range(len(self.list_human)):\n",
    "            ls_bmi.append(self.list_human[i].bmi)\n",
    "        return statistics.median(ls_bmi)\n",
    "        "
   ]
  },
  {
   "cell_type": "code",
   "execution_count": 209,
   "metadata": {
    "collapsed": false
   },
   "outputs": [],
   "source": [
    "ls_bmi=[]    \n",
    "for i in range(len(human_list)):\n",
    "    ls_bmi.append(human_list[i].bmi)"
   ]
  },
  {
   "cell_type": "code",
   "execution_count": 211,
   "metadata": {
    "collapsed": false
   },
   "outputs": [
    {
     "data": {
      "text/plain": [
       "0.40531609195402296"
      ]
     },
     "execution_count": 211,
     "metadata": {},
     "output_type": "execute_result"
    }
   ],
   "source": [
    "import statistics\n",
    "statistics.median(ls_bmi)"
   ]
  },
  {
   "cell_type": "code",
   "execution_count": null,
   "metadata": {
    "collapsed": true
   },
   "outputs": [],
   "source": [
    "#str - jak dajemy printa(objekt) - to będzie to co \n",
    "#repr - bardziej technicznie - to co nam wypisze jupyter"
   ]
  },
  {
   "cell_type": "markdown",
   "metadata": {},
   "source": [
    "## Zadanie Extra - rozwiązanie Kamil"
   ]
  },
  {
   "cell_type": "code",
   "execution_count": 213,
   "metadata": {
    "collapsed": true
   },
   "outputs": [],
   "source": [
    "class Human:\n",
    "    \n",
    "    def __init__(self,weight, height):\n",
    "        self.weight = weight\n",
    "        self.height=height"
   ]
  },
  {
   "cell_type": "code",
   "execution_count": 214,
   "metadata": {
    "collapsed": true
   },
   "outputs": [],
   "source": [
    "a = Human(55,160)"
   ]
  },
  {
   "cell_type": "code",
   "execution_count": 216,
   "metadata": {
    "collapsed": false
   },
   "outputs": [
    {
     "data": {
      "text/plain": [
       "{'height': 160, 'weight': 55}"
      ]
     },
     "execution_count": 216,
     "metadata": {},
     "output_type": "execute_result"
    }
   ],
   "source": [
    "a.__dict__"
   ]
  },
  {
   "cell_type": "code",
   "execution_count": 227,
   "metadata": {
    "collapsed": true
   },
   "outputs": [],
   "source": [
    "class Human:\n",
    "    unique_id = 0\n",
    "    \n",
    "    def __init__(self,weight, height):\n",
    "        self.weight = weight\n",
    "        self.height=height\n",
    "        self.unique_id = Human.unique_id\n",
    "        Human.unique_id+=1"
   ]
  },
  {
   "cell_type": "code",
   "execution_count": 228,
   "metadata": {
    "collapsed": false
   },
   "outputs": [],
   "source": [
    "t = Human(60,170)"
   ]
  },
  {
   "cell_type": "code",
   "execution_count": 229,
   "metadata": {
    "collapsed": false
   },
   "outputs": [
    {
     "data": {
      "text/plain": [
       "0"
      ]
     },
     "execution_count": 229,
     "metadata": {},
     "output_type": "execute_result"
    }
   ],
   "source": [
    "t.unique_id"
   ]
  },
  {
   "cell_type": "code",
   "execution_count": 230,
   "metadata": {
    "collapsed": true
   },
   "outputs": [],
   "source": [
    "a=Human(50,150)"
   ]
  },
  {
   "cell_type": "code",
   "execution_count": 231,
   "metadata": {
    "collapsed": false
   },
   "outputs": [
    {
     "data": {
      "text/plain": [
       "1"
      ]
     },
     "execution_count": 231,
     "metadata": {},
     "output_type": "execute_result"
    }
   ],
   "source": [
    "a.unique_id"
   ]
  },
  {
   "cell_type": "code",
   "execution_count": 261,
   "metadata": {
    "collapsed": true
   },
   "outputs": [],
   "source": [
    "class Human:\n",
    "    unique_id = 0\n",
    "    \n",
    "    def __init__(self,name,weight, height):\n",
    "        self.name = name\n",
    "        self.weight = weight\n",
    "        self.height=height\n",
    "        self.unique_id = Human.unique_id\n",
    "        Human.unique_id+=1\n",
    "        \n",
    "    def eat(self, calories):\n",
    "        if calories > 3000:\n",
    "            self.weight +=1\n",
    "            \n",
    "    def __repr__(self):\n",
    "        return '{} with name: {}'.format(self.__class__,self.name)"
   ]
  },
  {
   "cell_type": "code",
   "execution_count": 262,
   "metadata": {
    "collapsed": true
   },
   "outputs": [],
   "source": [
    "a=Human('A',81,170)"
   ]
  },
  {
   "cell_type": "code",
   "execution_count": 234,
   "metadata": {
    "collapsed": true
   },
   "outputs": [],
   "source": [
    "a.eat(4000)"
   ]
  },
  {
   "cell_type": "code",
   "execution_count": 235,
   "metadata": {
    "collapsed": false
   },
   "outputs": [
    {
     "data": {
      "text/plain": [
       "82"
      ]
     },
     "execution_count": 235,
     "metadata": {},
     "output_type": "execute_result"
    }
   ],
   "source": [
    "a.weight"
   ]
  },
  {
   "cell_type": "markdown",
   "metadata": {},
   "source": [
    "# import faker - importujemy randomowe imiona"
   ]
  },
  {
   "cell_type": "code",
   "execution_count": 237,
   "metadata": {
    "collapsed": false
   },
   "outputs": [
    {
     "name": "stdout",
     "output_type": "stream",
     "text": [
      "Collecting Faker\n",
      "  Downloading https://files.pythonhosted.org/packages/d9/eb/6d13451769976f79c9043db562da22302a2c3d96e5d6427e8517fec9d2e5/Faker-0.9.2-py2.py3-none-any.whl (766kB)\n",
      "\u001b[K    100% |████████████████████████████████| 768kB 1.3MB/s ta 0:00:011\n",
      "\u001b[?25hRequirement already satisfied: python-dateutil>=2.4 in /home/kodolamacz/anaconda3/lib/python3.6/site-packages (from Faker)\n",
      "Collecting text-unidecode==1.2 (from Faker)\n",
      "  Downloading https://files.pythonhosted.org/packages/79/42/d717cc2b4520fb09e45b344b1b0b4e81aa672001dd128c180fabc655c341/text_unidecode-1.2-py2.py3-none-any.whl (77kB)\n",
      "\u001b[K    100% |████████████████████████████████| 81kB 3.5MB/s ta 0:00:011\n",
      "\u001b[?25hRequirement already satisfied: six>=1.10 in /home/kodolamacz/anaconda3/lib/python3.6/site-packages (from Faker)\n",
      "Installing collected packages: text-unidecode, Faker\n",
      "Successfully installed Faker-0.9.2 text-unidecode-1.2\n",
      "\u001b[33mYou are using pip version 9.0.1, however version 18.1 is available.\n",
      "You should consider upgrading via the 'pip install --upgrade pip' command.\u001b[0m\n"
     ]
    }
   ],
   "source": [
    "!pip install Faker"
   ]
  },
  {
   "cell_type": "code",
   "execution_count": 238,
   "metadata": {
    "collapsed": true
   },
   "outputs": [],
   "source": [
    "from faker import Faker"
   ]
  },
  {
   "cell_type": "code",
   "execution_count": 243,
   "metadata": {
    "collapsed": true
   },
   "outputs": [],
   "source": [
    "fake = Faker('pl_PL')"
   ]
  },
  {
   "cell_type": "code",
   "execution_count": 253,
   "metadata": {
    "collapsed": false
   },
   "outputs": [
    {
     "data": {
      "text/plain": [
       "'Rozalia Kiliszek'"
      ]
     },
     "execution_count": 253,
     "metadata": {},
     "output_type": "execute_result"
    }
   ],
   "source": [
    "fake.name()"
   ]
  },
  {
   "cell_type": "code",
   "execution_count": 255,
   "metadata": {
    "collapsed": true
   },
   "outputs": [],
   "source": [
    "list_of_human = [ Human(fake.name(),fake.random_int(60,100),fake.random_int(150,200)) for i in range(10)]"
   ]
  },
  {
   "cell_type": "code",
   "execution_count": 254,
   "metadata": {
    "collapsed": true
   },
   "outputs": [],
   "source": [
    "fake.random_int?"
   ]
  },
  {
   "cell_type": "code",
   "execution_count": 256,
   "metadata": {
    "collapsed": false
   },
   "outputs": [
    {
     "ename": "NameError",
     "evalue": "name 'list_of_humans' is not defined",
     "output_type": "error",
     "traceback": [
      "\u001b[0;31m---------------------------------------------------------------------------\u001b[0m",
      "\u001b[0;31mNameError\u001b[0m                                 Traceback (most recent call last)",
      "\u001b[0;32m<ipython-input-256-40653ae73520>\u001b[0m in \u001b[0;36m<module>\u001b[0;34m()\u001b[0m\n\u001b[0;32m----> 1\u001b[0;31m \u001b[0mlist_of_humans\u001b[0m\u001b[0;34m\u001b[0m\u001b[0m\n\u001b[0m",
      "\u001b[0;31mNameError\u001b[0m: name 'list_of_humans' is not defined"
     ]
    }
   ],
   "source": [
    "list_of_humans"
   ]
  },
  {
   "cell_type": "code",
   "execution_count": 263,
   "metadata": {
    "collapsed": true
   },
   "outputs": [],
   "source": [
    "list_of_humans = [ Human(fake.name(), fake.random_int(60, 100), fake.random_int(150, 200)) for i in range(10)]"
   ]
  },
  {
   "cell_type": "code",
   "execution_count": 264,
   "metadata": {
    "collapsed": false
   },
   "outputs": [
    {
     "data": {
      "text/plain": [
       "[<class '__main__.Human'> with name: pani Julianna Burdach,\n",
       " <class '__main__.Human'> with name: Lidia Swacha,\n",
       " <class '__main__.Human'> with name: pani Kornelia Mosiołek,\n",
       " <class '__main__.Human'> with name: Sandra Kopyść,\n",
       " <class '__main__.Human'> with name: Konstanty Kruszka,\n",
       " <class '__main__.Human'> with name: Blanka Sporysz,\n",
       " <class '__main__.Human'> with name: Bartek Janduła,\n",
       " <class '__main__.Human'> with name: Marcin Widłak,\n",
       " <class '__main__.Human'> with name: pani Sylwia Działa,\n",
       " <class '__main__.Human'> with name: Daniel Dziewior]"
      ]
     },
     "execution_count": 264,
     "metadata": {},
     "output_type": "execute_result"
    }
   ],
   "source": [
    "list_of_humans"
   ]
  },
  {
   "cell_type": "code",
   "execution_count": 265,
   "metadata": {
    "collapsed": false
   },
   "outputs": [
    {
     "data": {
      "text/plain": [
       "list"
      ]
     },
     "execution_count": 265,
     "metadata": {},
     "output_type": "execute_result"
    }
   ],
   "source": [
    "type(list_of_humans)"
   ]
  },
  {
   "cell_type": "code",
   "execution_count": 266,
   "metadata": {
    "collapsed": false
   },
   "outputs": [
    {
     "data": {
      "text/plain": [
       "__main__.Human"
      ]
     },
     "execution_count": 266,
     "metadata": {},
     "output_type": "execute_result"
    }
   ],
   "source": [
    "type(list_of_humans[0])"
   ]
  },
  {
   "cell_type": "code",
   "execution_count": null,
   "metadata": {
    "collapsed": true
   },
   "outputs": [],
   "source": []
  }
 ],
 "metadata": {
  "kernelspec": {
   "display_name": "Python 3",
   "language": "python",
   "name": "python3"
  },
  "language_info": {
   "codemirror_mode": {
    "name": "ipython",
    "version": 3
   },
   "file_extension": ".py",
   "mimetype": "text/x-python",
   "name": "python",
   "nbconvert_exporter": "python",
   "pygments_lexer": "ipython3",
   "version": "3.6.0"
  }
 },
 "nbformat": 4,
 "nbformat_minor": 2
}
